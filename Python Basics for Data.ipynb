{
 "cells": [
  {
   "cell_type": "markdown",
   "id": "0d29e64d-e6b1-461f-9c0e-0f2f4e757c4b",
   "metadata": {},
   "source": [
    "# 0. Variables"
   ]
  },
  {
   "cell_type": "code",
   "execution_count": 3,
   "id": "c0f95ca1-01ee-4781-88b8-938048003d0a",
   "metadata": {},
   "outputs": [],
   "source": [
    "space_name = \"Astro Mike\""
   ]
  },
  {
   "cell_type": "code",
   "execution_count": 5,
   "id": "cbbf3d46-1bb9-4393-b35c-38f2edf62d5e",
   "metadata": {},
   "outputs": [
    {
     "data": {
      "text/plain": [
       "'Astro Mike'"
      ]
     },
     "execution_count": 5,
     "metadata": {},
     "output_type": "execute_result"
    }
   ],
   "source": [
    "space_name"
   ]
  },
  {
   "cell_type": "code",
   "execution_count": 7,
   "id": "ebfd6bdb-f94e-45e5-b47a-f48b4c2475f2",
   "metadata": {},
   "outputs": [
    {
     "data": {
      "text/plain": [
       "str"
      ]
     },
     "execution_count": 7,
     "metadata": {},
     "output_type": "execute_result"
    }
   ],
   "source": [
    "type(space_name)"
   ]
  },
  {
   "cell_type": "markdown",
   "id": "c9caa71e-5505-4d3f-9a50-2f6126a6805e",
   "metadata": {},
   "source": [
    "# 1. Data Types"
   ]
  },
  {
   "cell_type": "code",
   "execution_count": 12,
   "id": "d686cf0f-f998-4417-b1a4-968479684b23",
   "metadata": {},
   "outputs": [
    {
     "name": "stdout",
     "output_type": "stream",
     "text": [
      "pluto\n"
     ]
    }
   ],
   "source": [
    "# this is declaring a variable as a string \n",
    "string_variable = \"pluto\"\n",
    "print(string_variable)"
   ]
  },
  {
   "cell_type": "code",
   "execution_count": 16,
   "id": "35def1ed-83a9-488a-b0fd-eeb2b8114bbe",
   "metadata": {},
   "outputs": [
    {
     "data": {
      "text/plain": [
       "int"
      ]
     },
     "execution_count": 16,
     "metadata": {},
     "output_type": "execute_result"
    }
   ],
   "source": [
    "#declairing a variable as an integer\n",
    "integer_variable = 123852 \n",
    "\n",
    "type(integer_variable)"
   ]
  },
  {
   "cell_type": "code",
   "execution_count": 20,
   "id": "b84bdbca-eff1-4d8c-801f-5f4c9f403ddb",
   "metadata": {},
   "outputs": [
    {
     "name": "stdout",
     "output_type": "stream",
     "text": [
      "128.946\n"
     ]
    },
    {
     "data": {
      "text/plain": [
       "float"
      ]
     },
     "execution_count": 20,
     "metadata": {},
     "output_type": "execute_result"
    }
   ],
   "source": [
    "# declaring a float variable \n",
    "float_var = 128.946\n",
    "print(float_var)\n",
    "type(float_var)"
   ]
  },
  {
   "cell_type": "code",
   "execution_count": 22,
   "id": "b97aaef2-8b46-4f83-8706-d49d9d8a22b6",
   "metadata": {},
   "outputs": [
    {
     "data": {
      "text/plain": [
       "bool"
      ]
     },
     "execution_count": 22,
     "metadata": {},
     "output_type": "execute_result"
    }
   ],
   "source": [
    "#declaring A BOOLEAN value \n",
    "bool_var = True\n",
    "type(bool_var)"
   ]
  },
  {
   "cell_type": "code",
   "execution_count": 26,
   "id": "bb118b7a-28a4-46b1-8ba9-beee23664101",
   "metadata": {},
   "outputs": [
    {
     "data": {
      "text/plain": [
       "str"
      ]
     },
     "execution_count": 26,
     "metadata": {},
     "output_type": "execute_result"
    }
   ],
   "source": [
    "typecst = str(38)\n",
    "type(typecst)"
   ]
  },
  {
   "cell_type": "code",
   "execution_count": 46,
   "id": "c2e12400-2021-4c0b-ae9a-37bcfcc3dce6",
   "metadata": {},
   "outputs": [
    {
     "data": {
      "text/plain": [
       "list"
      ]
     },
     "execution_count": 46,
     "metadata": {},
     "output_type": "execute_result"
    }
   ],
   "source": [
    "# defining a list \n",
    "list_var = [1,3,6,7,48.89,22.1,1,3,6]\n",
    "type(list_var)\n"
   ]
  },
  {
   "cell_type": "code",
   "execution_count": 48,
   "id": "cacdecc2-2be5-44a7-8258-f44a2142ead2",
   "metadata": {},
   "outputs": [],
   "source": [
    " # creating tuples= immutable \n",
    "tuple_var = (1,3,6,7,48.89,22.1)"
   ]
  },
  {
   "cell_type": "code",
   "execution_count": 44,
   "id": "41bc8c8e-b42e-4c92-82c6-f440865979a8",
   "metadata": {},
   "outputs": [
    {
     "name": "stdout",
     "output_type": "stream",
     "text": [
      "{48.89, 1, 2, 3, 6, 7, 22.1}\n"
     ]
    }
   ],
   "source": [
    "# creating a set variable = no duplicates\n",
    "set_var = {1,3,6,7,48.89,22.1,3,2,1}\n",
    "print(set_var)"
   ]
  },
  {
   "cell_type": "code",
   "execution_count": 56,
   "id": "5e253bc1-e5a0-465a-abc3-f7bbc609eb14",
   "metadata": {},
   "outputs": [
    {
     "name": "stdout",
     "output_type": "stream",
     "text": [
      "[1, 3, 6, 7, 48.89, 22.1]\n"
     ]
    }
   ],
   "source": [
    "# typecasting lists to a set to to get rid of duplicates \n",
    "clean_list = list(set(list_var))\n",
    "print(clean_list)"
   ]
  },
  {
   "cell_type": "code",
   "execution_count": 60,
   "id": "584e47f4-cf3b-44e7-b241-5acda25c1b30",
   "metadata": {},
   "outputs": [
    {
     "data": {
      "text/plain": [
       "dict"
      ]
     },
     "execution_count": 60,
     "metadata": {},
     "output_type": "execute_result"
    }
   ],
   "source": [
    "# defining a dictionary \n",
    "dict_var = {'name': 'Mike',\n",
    "           'fav_color':'red',\n",
    "           'fav_number':'Red'}\n",
    "\n",
    "type(dict_var)"
   ]
  },
  {
   "cell_type": "markdown",
   "id": "2c74bf58-97e5-4dff-bdf7-6bf826484a78",
   "metadata": {},
   "source": [
    "# 2. Lists"
   ]
  },
  {
   "cell_type": "code",
   "execution_count": 5,
   "id": "675c7d9b-88a6-40c4-b294-110f32d0589d",
   "metadata": {},
   "outputs": [],
   "source": [
    "# CREATE \n",
    "names = ['neil armstrong', 'buzz aldrin', 'sally ride', 'yuri gagarin', 'elon musk']"
   ]
  },
  {
   "cell_type": "code",
   "execution_count": 99,
   "id": "23f56005-da9c-4c11-8edd-d1f5e17636cd",
   "metadata": {},
   "outputs": [
    {
     "name": "stdout",
     "output_type": "stream",
     "text": [
      "['richard baranson', 'neil armstrong', 'buzz aldrin', 'sally ride', 'yuri gagarin', 'elon musk']\n"
     ]
    }
   ],
   "source": [
    "# rEAD\n",
    "print(names)"
   ]
  },
  {
   "cell_type": "code",
   "execution_count": 75,
   "id": "694a2793-a4d6-4daa-ae32-030eb96e3cca",
   "metadata": {},
   "outputs": [
    {
     "data": {
      "text/plain": [
       "'elon musk'"
      ]
     },
     "execution_count": 75,
     "metadata": {},
     "output_type": "execute_result"
    }
   ],
   "source": [
    "# reading using indexing \n",
    "names[-1]"
   ]
  },
  {
   "cell_type": "code",
   "execution_count": 77,
   "id": "cfa52cf8-636c-4304-a326-8a19ac1c20c2",
   "metadata": {},
   "outputs": [
    {
     "data": {
      "text/plain": [
       "5"
      ]
     },
     "execution_count": 77,
     "metadata": {},
     "output_type": "execute_result"
    }
   ],
   "source": [
    "len(names)"
   ]
  },
  {
   "cell_type": "code",
   "execution_count": 79,
   "id": "8c8bf38c-e394-41d5-a6e6-0f5f74c5291f",
   "metadata": {},
   "outputs": [],
   "source": [
    "# UPDATE \n",
    "names[-1] = 'mike inyang'"
   ]
  },
  {
   "cell_type": "code",
   "execution_count": 83,
   "id": "d1489ea4-16e0-4f17-af47-4750b7e429dd",
   "metadata": {},
   "outputs": [],
   "source": [
    "names.append('elon musk')"
   ]
  },
  {
   "cell_type": "code",
   "execution_count": 93,
   "id": "9c1d8675-97ba-470f-8599-ea2a26f42030",
   "metadata": {},
   "outputs": [],
   "source": [
    "names.insert(0, 'richard baranson')"
   ]
  },
  {
   "cell_type": "code",
   "execution_count": 97,
   "id": "908d8ab8-dc78-45c1-8b0e-ce23eb946c8b",
   "metadata": {},
   "outputs": [],
   "source": [
    "# DELETE\n",
    "del names[-2]"
   ]
  },
  {
   "cell_type": "markdown",
   "id": "bede65c7-4297-4ae8-b721-389c4735cfee",
   "metadata": {},
   "source": [
    "# 3. Dictionaries"
   ]
  },
  {
   "cell_type": "code",
   "execution_count": 4,
   "id": "f1595b53-c6b6-464f-b8f9-a2c40d872f4e",
   "metadata": {},
   "outputs": [],
   "source": [
    "# create \n",
    "astro = {\n",
    "    \"name\": \"elon musk\",\n",
    "    \"suit_size\": \"large\",\n",
    "    \"allergies\": \"peanuts\"   \n",
    "}"
   ]
  },
  {
   "cell_type": "code",
   "execution_count": 104,
   "id": "0dbf7774-a512-4eb9-a124-9153412a3178",
   "metadata": {},
   "outputs": [],
   "source": [
    "# read"
   ]
  },
  {
   "cell_type": "code",
   "execution_count": 130,
   "id": "8a885230-4f82-468d-9697-5ff53602a7df",
   "metadata": {},
   "outputs": [
    {
     "data": {
      "text/plain": [
       "{'name': 'elon musk', 'suit_size': 'large', 'allergies': 'peanuts'}"
      ]
     },
     "execution_count": 130,
     "metadata": {},
     "output_type": "execute_result"
    }
   ],
   "source": [
    "astro"
   ]
  },
  {
   "cell_type": "code",
   "execution_count": 6,
   "id": "2b3a05e3-f587-44c2-8353-097d0a8f7548",
   "metadata": {},
   "outputs": [
    {
     "data": {
      "text/plain": [
       "dict_keys(['name', 'suit_size', 'allergies'])"
      ]
     },
     "execution_count": 6,
     "metadata": {},
     "output_type": "execute_result"
    }
   ],
   "source": [
    "astro.keys()"
   ]
  },
  {
   "cell_type": "markdown",
   "id": "165b691b-b7e5-4360-9eb7-032c74edb8e3",
   "metadata": {},
   "source": []
  },
  {
   "cell_type": "code",
   "execution_count": 124,
   "id": "01431381-1f49-4cd3-bf05-7b502641128e",
   "metadata": {},
   "outputs": [],
   "source": [
    "# update \n",
    "astro['space_ship'] = 'galactic1'"
   ]
  },
  {
   "cell_type": "code",
   "execution_count": 128,
   "id": "2e9f7bab-457a-4b87-95aa-5b8ed9ffe4d8",
   "metadata": {},
   "outputs": [],
   "source": [
    "# delete \n",
    "del astro['space_ship']"
   ]
  },
  {
   "cell_type": "markdown",
   "id": "ced8ff5a-ae68-4025-97fa-b3d9ffc7339f",
   "metadata": {},
   "source": [
    "# 4. Conditions and Logic"
   ]
  },
  {
   "cell_type": "code",
   "execution_count": 11,
   "id": "005a5ab8-c013-4205-9781-c564f247d2de",
   "metadata": {},
   "outputs": [
    {
     "name": "stdout",
     "output_type": "stream",
     "text": [
      "Sup Neil Armstrong\n"
     ]
    }
   ],
   "source": [
    "# Applying logic using the If statement\n",
    "name = 'Neil Armstrong'\n",
    "\n",
    "if name == 'Neil Armstrong': \n",
    "    print('Sup',name)"
   ]
  },
  {
   "cell_type": "code",
   "execution_count": 19,
   "id": "f9823400-9522-4ff4-b9bd-ebf396074633",
   "metadata": {},
   "outputs": [
    {
     "name": "stdout",
     "output_type": "stream",
     "text": [
      "check yo probabilities\n"
     ]
    }
   ],
   "source": [
    "probability = -1\n",
    "# if prob is greater than 0.5 then true \n",
    "if probability >= 0.5:\n",
    "    print(True)\n",
    "\n",
    "# if probability less that o then check \n",
    "elif probability < 0: \n",
    "    print('check yo probabilities')\n",
    "\n",
    "# everything else is false \n",
    "else:\n",
    "    print(False)"
   ]
  },
  {
   "cell_type": "code",
   "execution_count": 7,
   "id": "23df3115-135f-4464-ab8e-45ac8a81e138",
   "metadata": {},
   "outputs": [
    {
     "name": "stdout",
     "output_type": "stream",
     "text": [
      "the boy is here\n"
     ]
    }
   ],
   "source": [
    "# conditions with lists \n",
    "names = ['Drake', 'Kendrick', 'J. Cole', 'Don Toliver', 'Dave']\n",
    "\n",
    "if 'Drake' in names:\n",
    "    print('the boy is here')"
   ]
  },
  {
   "cell_type": "markdown",
   "id": "6b850857-7bae-4ee5-991c-35a21a99c8ff",
   "metadata": {},
   "source": [
    "# 5. Loops"
   ]
  },
  {
   "cell_type": "code",
   "execution_count": 45,
   "id": "896365b4-4803-4ff1-80cd-8722fcea3ec0",
   "metadata": {},
   "outputs": [
    {
     "name": "stdout",
     "output_type": "stream",
     "text": [
      "Drake\n",
      "Drake the GOAT!\n",
      "\n",
      "Kendrick\n",
      "pleased to have you here\n",
      "\n",
      "J. Cole\n",
      "J. Cole a GOAT too\n",
      "pleased to have you here\n",
      "\n",
      "Don Toliver\n",
      "pleased to have you here\n",
      "\n",
      "Dave\n",
      "pleased to have you here\n",
      "\n"
     ]
    }
   ],
   "source": [
    "# for loop example \n",
    "for name in names:\n",
    "    print(name,)\n",
    "    if name == 'Drake':\n",
    "        print(name,  'the GOAT!\\n')\n",
    "        continue\n",
    "    elif name == 'J. Cole':\n",
    "        print(name, 'a GOAT too')\n",
    "    else:\n",
    "        pass\n",
    "        \n",
    "# outside of the if statement block but inside the for loop \n",
    "    print('pleased to have you here\\n')"
   ]
  },
  {
   "cell_type": "code",
   "execution_count": 47,
   "id": "d6a26627-4cbe-4d5d-a35c-6105a89fda6c",
   "metadata": {},
   "outputs": [
    {
     "name": "stdout",
     "output_type": "stream",
     "text": [
      "0\n",
      "1\n",
      "2\n",
      "3\n",
      "4\n",
      "5\n",
      "6\n",
      "7\n",
      "8\n",
      "9\n"
     ]
    }
   ],
   "source": [
    "# loop x number of times \n",
    "for idx in range(10):\n",
    "    print(idx)"
   ]
  },
  {
   "cell_type": "code",
   "execution_count": 57,
   "id": "924b0405-0de3-4f09-aa5c-af9b8e73ecae",
   "metadata": {},
   "outputs": [
    {
     "name": "stdout",
     "output_type": "stream",
     "text": [
      "shuttle 1 launched\n",
      "shuttle 2 launched\n",
      "shuttle 3 launched\n",
      "shuttle 4 launched\n",
      "shuttle 5 launched\n",
      "All shuttles launched\n",
      "\n"
     ]
    }
   ],
   "source": [
    "# create launch variables \n",
    "launched_shuttles = 0 \n",
    "total_shuttles = 5 \n",
    "\n",
    "while True:\n",
    "    print('shuttle {} launched'.format(launched_shuttles+1))\n",
    "    launched_shuttles +=1\n",
    "\n",
    "    if launched_shuttles == total_shuttles:\n",
    "        print('All shuttles launched\\n')\n",
    "        break"
   ]
  },
  {
   "cell_type": "markdown",
   "id": "5be469e3-2f4c-4180-93a6-f95c588a1b9c",
   "metadata": {},
   "source": [
    "# looping through a dictionary"
   ]
  },
  {
   "cell_type": "code",
   "execution_count": 60,
   "id": "7492c460-0a76-417d-b4c8-d7ce64444078",
   "metadata": {},
   "outputs": [],
   "source": [
    "astronaut = {\n",
    "    \"name\": 'Elon Musk',\n",
    "    \"suit_size\":\"Medium\",\n",
    "    \"allergies\":'peanuts'\n",
    "}"
   ]
  },
  {
   "cell_type": "code",
   "execution_count": 62,
   "id": "2ec3a9e1-219b-463b-8881-e61cfab2ccde",
   "metadata": {},
   "outputs": [
    {
     "name": "stdout",
     "output_type": "stream",
     "text": [
      "name\n",
      "suit_size\n",
      "allergies\n"
     ]
    }
   ],
   "source": [
    "#looping through keys in a dictionary\n",
    "for key in astronaut.keys():\n",
    "    print(key)"
   ]
  },
  {
   "cell_type": "code",
   "execution_count": 64,
   "id": "44b83f81-9186-4c64-a2cc-dfcabba07308",
   "metadata": {},
   "outputs": [
    {
     "data": {
      "text/plain": [
       "dict_values(['Elon Musk', 'Medium', 'peanuts'])"
      ]
     },
     "execution_count": 64,
     "metadata": {},
     "output_type": "execute_result"
    }
   ],
   "source": [
    "# acccessing dictionary values\n",
    "astronaut.values()"
   ]
  },
  {
   "cell_type": "code",
   "execution_count": 66,
   "id": "f055fdd1-b66d-467f-b53a-47a1f6ad2675",
   "metadata": {},
   "outputs": [
    {
     "name": "stdout",
     "output_type": "stream",
     "text": [
      "Elon Musk\n",
      "Medium\n",
      "peanuts\n"
     ]
    }
   ],
   "source": [
    "for value in astronaut.values():\n",
    "    print(value)"
   ]
  },
  {
   "cell_type": "code",
   "execution_count": 70,
   "id": "eca71530-25fd-4a94-a66e-10726c50ae95",
   "metadata": {},
   "outputs": [
    {
     "name": "stdout",
     "output_type": "stream",
     "text": [
      "name\n",
      "Elon Musk \n",
      "\n",
      "suit_size\n",
      "Medium \n",
      "\n",
      "allergies\n",
      "peanuts \n",
      "\n"
     ]
    }
   ],
   "source": [
    "# looping through keys and values at same time \n",
    "for key, value in astronaut.items():\n",
    "    print(key)\n",
    "    print(value, '\\n')"
   ]
  },
  {
   "cell_type": "code",
   "execution_count": 72,
   "id": "36ecda0a-db22-4345-b17e-478b19c421bf",
   "metadata": {},
   "outputs": [],
   "source": [
    "# list comprehension \n",
    "new_list = [name.title() for name in names]"
   ]
  },
  {
   "cell_type": "code",
   "execution_count": 74,
   "id": "b1aed40c-c277-49a5-9c49-d59224805053",
   "metadata": {},
   "outputs": [
    {
     "data": {
      "text/plain": [
       "['Drake', 'Kendrick', 'J. Cole', 'Don Toliver', 'Dave']"
      ]
     },
     "execution_count": 74,
     "metadata": {},
     "output_type": "execute_result"
    }
   ],
   "source": [
    "new_list"
   ]
  },
  {
   "cell_type": "markdown",
   "id": "d29123e1-e324-4590-b830-84b2468d53b4",
   "metadata": {},
   "source": [
    "# 6. Functions "
   ]
  },
  {
   "cell_type": "code",
   "execution_count": 3,
   "id": "0d731f6a-b3c1-43a3-8f96-a201aacb696e",
   "metadata": {},
   "outputs": [],
   "source": [
    "# defining a function in python \n",
    "def custom_welcome(name): \n",
    "    print('Welcome {}'.format(name))"
   ]
  },
  {
   "cell_type": "code",
   "execution_count": 7,
   "id": "03f0b132-415b-4d51-beec-c6d47c1d652e",
   "metadata": {},
   "outputs": [
    {
     "name": "stdout",
     "output_type": "stream",
     "text": [
      "Welcome Mike\n"
     ]
    }
   ],
   "source": [
    "custom_welcome('Mike')"
   ]
  },
  {
   "cell_type": "code",
   "execution_count": 15,
   "id": "7d7df82b-0a4e-4886-8999-2abeedac048d",
   "metadata": {},
   "outputs": [
    {
     "name": "stdout",
     "output_type": "stream",
     "text": [
      "Welcome Neil Armstrong\n",
      "Welcome Buzz Aldrin\n",
      "Welcome Sally Ride\n",
      "Welcome Yuri Gagarin\n",
      "Welcome Elon Musk\n"
     ]
    }
   ],
   "source": [
    "for name in names:\n",
    "    custom_welcome(name.title())"
   ]
  },
  {
   "cell_type": "code",
   "execution_count": 18,
   "id": "70283f64-e134-4754-9b70-d696543cf3a1",
   "metadata": {},
   "outputs": [],
   "source": [
    "# multiple positional arguments \n",
    "def custom_welcome_to_ship(name, space_ship): \n",
    "    print('Welcome {} to the {}'.format(name, space_ship))"
   ]
  },
  {
   "cell_type": "code",
   "execution_count": 19,
   "id": "1dd14a90-0518-49f1-b070-707ee0b9380c",
   "metadata": {},
   "outputs": [
    {
     "name": "stdout",
     "output_type": "stream",
     "text": [
      "Welcome Mike to the Galactic1\n"
     ]
    }
   ],
   "source": [
    "custom_welcome_to_ship('Mike','Galactic1')"
   ]
  },
  {
   "cell_type": "code",
   "execution_count": 1,
   "id": "2eb58a2e-6f9d-47b3-8fc0-9784b7a81c2f",
   "metadata": {},
   "outputs": [],
   "source": [
    "space_ships = ['Galactic 1', 'Death Star', 'Fire Lord z', 'Maximum Avenger', 'Rest In Steeze']"
   ]
  },
  {
   "cell_type": "code",
   "execution_count": 22,
   "id": "faec7615-9c66-4e11-9bda-3dac6651abf0",
   "metadata": {},
   "outputs": [
    {
     "name": "stdout",
     "output_type": "stream",
     "text": [
      "Welcome neil armstrong to the Galactic 1\n",
      "Welcome buzz aldrin to the Death Star\n",
      "Welcome sally ride to the Fire Lord z\n",
      "Welcome yuri gagarin to the Maximum Avenger\n",
      "Welcome elon musk to the Rest In Steeze\n"
     ]
    }
   ],
   "source": [
    "# used enumerate function to get index and name \n",
    "for i, name in enumerate(names):\n",
    "    ship = space_ships[i]\n",
    "    custom_welcome_to_ship(name, ship)"
   ]
  },
  {
   "cell_type": "code",
   "execution_count": 32,
   "id": "bdaac512-73c9-45d0-95c8-6c5cbe889c32",
   "metadata": {},
   "outputs": [],
   "source": [
    "# using keyword arguments example\n",
    "def space_suit(color='Blue'):\n",
    "    print('your space suit is {}'.format(color))"
   ]
  },
  {
   "cell_type": "code",
   "execution_count": 34,
   "id": "e0eeacfe-db03-40fe-a242-1133217d3436",
   "metadata": {},
   "outputs": [
    {
     "name": "stdout",
     "output_type": "stream",
     "text": [
      "your space suit is red\n"
     ]
    }
   ],
   "source": [
    "space_suit('red')"
   ]
  },
  {
   "cell_type": "code",
   "execution_count": 36,
   "id": "70260cbb-cdaf-49c8-a623-b802193c2927",
   "metadata": {},
   "outputs": [],
   "source": [
    "def space_suit_welcome(name, spaceship, color='Blue'):\n",
    "    print('welcome {} to the {}, your space suit is {}'.format(name,spaceship,color))"
   ]
  },
  {
   "cell_type": "code",
   "execution_count": 40,
   "id": "d5031fa0-8e57-4c23-8898-2bfe0b41f66f",
   "metadata": {},
   "outputs": [
    {
     "name": "stdout",
     "output_type": "stream",
     "text": [
      "welcome Joe Riggins to the Galatic Deathstar, your space suit is red\n"
     ]
    }
   ],
   "source": [
    "space_suit_welcome('Joe Riggins','Galatic Deathstar','red')"
   ]
  },
  {
   "cell_type": "code",
   "execution_count": 64,
   "id": "8d3355e4-ce72-4f90-8b8c-b2050d20eac6",
   "metadata": {},
   "outputs": [],
   "source": [
    "# keyword arguments are independent of positions, for example \n",
    "def space_allergies(name, spaceship, color='Blue',allergies='none'):\n",
    "    print('welcome {} to the {}, your spacesuit is {}, you have {} allergies'.format(name,spaceship,color,allergies))"
   ]
  },
  {
   "cell_type": "code",
   "execution_count": 68,
   "id": "9eeb717e-c00d-45aa-83a7-31b978855f0d",
   "metadata": {},
   "outputs": [
    {
     "name": "stdout",
     "output_type": "stream",
     "text": [
      "welcome John Wick to the BattleSTar Trooper, your spacesuit is Blue, you have peanut allergies\n"
     ]
    }
   ],
   "source": [
    "space_allergies('John Wick','BattleSTar Trooper',allergies='peanut')"
   ]
  },
  {
   "cell_type": "code",
   "execution_count": 70,
   "id": "e202b0bb-ea51-4c28-b10e-25bfbfb0fe80",
   "metadata": {},
   "outputs": [],
   "source": [
    "# using the return function \n",
    "def space_suit(name, spaceship, color='Blue',allergies='none'):\n",
    "    return 'welcome {} to the {}, your spacesuit is {}, you have {} allergies'.format(name,spaceship,color,allergies)"
   ]
  },
  {
   "cell_type": "code",
   "execution_count": 76,
   "id": "c4ab51b4-597f-4fbc-812a-42ea50f818cc",
   "metadata": {},
   "outputs": [],
   "source": [
    "# returns a value and can be stored in a variable\n",
    "welcome = space_suit('Niel Armstrong', 'MilkyWay Crusher')"
   ]
  },
  {
   "cell_type": "code",
   "execution_count": 78,
   "id": "d46f1dd1-654d-4b2e-97ec-a3aa5475c03e",
   "metadata": {},
   "outputs": [
    {
     "name": "stdout",
     "output_type": "stream",
     "text": [
      "welcome Niel Armstrong to the MilkyWay Crusher, your spacesuit is Blue, you have none allergies\n"
     ]
    }
   ],
   "source": [
    "print(welcome)"
   ]
  },
  {
   "cell_type": "code",
   "execution_count": null,
   "id": "b6cee5e1-c009-48ae-bbc9-e80b62014dbd",
   "metadata": {},
   "outputs": [],
   "source": [
    "# lambda function\n",
    "pi = lambda x: x*3.14"
   ]
  },
  {
   "cell_type": "markdown",
   "id": "37f2acc5-75bc-406d-8d1d-44b2227fafc7",
   "metadata": {},
   "source": [
    "# 7. Classes"
   ]
  },
  {
   "cell_type": "code",
   "execution_count": 25,
   "id": "c543d591-1b52-47fc-8110-9dfad6978855",
   "metadata": {},
   "outputs": [],
   "source": [
    "# classes os boilerplates for objects\n",
    "class Person():\n",
    "    #the method that runs as soon as a class is created \n",
    "    def __init__(self, name, age, color):\n",
    "        # create some attributes for our person class \n",
    "        self.name = name \n",
    "        self.age = age \n",
    "        self.color = color \n",
    "\n",
    "    # date of birth method\n",
    "    def year_of_birth(self):\n",
    "        return 2025-self.age\n",
    "\n",
    "    # projected age\n",
    "    def projected_age(self, years=5):\n",
    "        return self.age+years\n",
    "        \n",
    "        "
   ]
  },
  {
   "cell_type": "code",
   "execution_count": 27,
   "id": "29634adf-fe26-4e42-9805-7c4d15a12f39",
   "metadata": {},
   "outputs": [],
   "source": [
    "new_person = Person('Elon Musk',38,'blue')"
   ]
  },
  {
   "cell_type": "code",
   "execution_count": 29,
   "id": "6bf7c2a1-92ed-4128-a481-ffd1519ae35a",
   "metadata": {},
   "outputs": [
    {
     "data": {
      "text/plain": [
       "'Elon Musk'"
      ]
     },
     "execution_count": 29,
     "metadata": {},
     "output_type": "execute_result"
    }
   ],
   "source": [
    "#accessing a class attribute\n",
    "new_person.name"
   ]
  },
  {
   "cell_type": "code",
   "execution_count": 31,
   "id": "51d9511c-71a5-4637-8870-f6c18d49eb38",
   "metadata": {},
   "outputs": [
    {
     "data": {
      "text/plain": [
       "1987"
      ]
     },
     "execution_count": 31,
     "metadata": {},
     "output_type": "execute_result"
    }
   ],
   "source": [
    "# accessing year of birth method \n",
    "new_person.year_of_birth()"
   ]
  },
  {
   "cell_type": "code",
   "execution_count": 35,
   "id": "25f3322d-517c-41e6-8ae6-e9555eb2b364",
   "metadata": {},
   "outputs": [
    {
     "data": {
      "text/plain": [
       "43"
      ]
     },
     "execution_count": 35,
     "metadata": {},
     "output_type": "execute_result"
    }
   ],
   "source": [
    "# using the the projected age method (method with keyword argument)\n",
    "new_person.projected_age()"
   ]
  },
  {
   "cell_type": "code",
   "execution_count": 57,
   "id": "524401f1-0efa-4f1e-b8a7-787e0ecb27f0",
   "metadata": {},
   "outputs": [],
   "source": [
    "#Inheritance, parent class passes down attributes to the child class \n",
    "class Astronaut(Person):\n",
    "    #defining the init function\n",
    "    def __init__(self, name, age, color, mission_lenght_in_months):\n",
    "        #this is the inheritance \n",
    "        super().__init__(name,age,color)\n",
    "        self.mission_lenght_in_months = mission_lenght_in_months\n",
    "\n",
    "\n",
    "    def age_on_return(self):\n",
    "        return self.projected_age(self.mission_lenght_in_months/12)\n"
   ]
  },
  {
   "cell_type": "code",
   "execution_count": 59,
   "id": "2bd8338e-a2a5-4611-a10e-5604d0a63532",
   "metadata": {},
   "outputs": [],
   "source": [
    " new_astronaut = Astronaut('Mike',29,'purple',18)"
   ]
  },
  {
   "cell_type": "code",
   "execution_count": 61,
   "id": "3564339d-163e-40e8-a542-cab03c11e458",
   "metadata": {},
   "outputs": [
    {
     "data": {
      "text/plain": [
       "1996"
      ]
     },
     "execution_count": 61,
     "metadata": {},
     "output_type": "execute_result"
    }
   ],
   "source": [
    "# accessing parent like attributes \n",
    "new_astronaut.year_of_birth()"
   ]
  },
  {
   "cell_type": "code",
   "execution_count": 63,
   "id": "e246f1fb-c5fe-43d9-bc7c-984c16031141",
   "metadata": {},
   "outputs": [
    {
     "data": {
      "text/plain": [
       "30.5"
      ]
     },
     "execution_count": 63,
     "metadata": {},
     "output_type": "execute_result"
    }
   ],
   "source": [
    "new_astronaut.age_on_return()"
   ]
  },
  {
   "cell_type": "markdown",
   "id": "85826ec5-5a2d-47a8-a806-039daed1bc5d",
   "metadata": {},
   "source": [
    "# 8. Modules"
   ]
  },
  {
   "cell_type": "code",
   "execution_count": null,
   "id": "916dd367-6f66-4a1a-b6b6-25907a48308e",
   "metadata": {},
   "outputs": [],
   "source": [
    "from helpers import launch_codes\n",
    "#imports the launch_codes method from our helpers python file \n",
    "launch_codes()\n",
    "# calls the launch_codes function "
   ]
  },
  {
   "cell_type": "markdown",
   "id": "475a7ebe-e2b0-4d35-b339-1a15645e68b2",
   "metadata": {},
   "source": [
    "# 9. Working with Packages\n",
    "## (Request Package and Making API Calls)"
   ]
  },
  {
   "cell_type": "code",
   "execution_count": 19,
   "id": "9e1dc497-53dd-4983-a2a6-b7bdc3b27224",
   "metadata": {
    "collapsed": true,
    "jupyter": {
     "outputs_hidden": true
    },
    "scrolled": true
   },
   "outputs": [
    {
     "name": "stdout",
     "output_type": "stream",
     "text": [
      "Requirement already satisfied: requests in c:\\users\\user\\anaconda3\\lib\\site-packages (2.32.3)\n",
      "Requirement already satisfied: charset-normalizer<4,>=2 in c:\\users\\user\\anaconda3\\lib\\site-packages (from requests) (3.3.2)\n",
      "Requirement already satisfied: idna<4,>=2.5 in c:\\users\\user\\anaconda3\\lib\\site-packages (from requests) (3.7)\n",
      "Requirement already satisfied: urllib3<3,>=1.21.1 in c:\\users\\user\\anaconda3\\lib\\site-packages (from requests) (2.2.3)\n",
      "Requirement already satisfied: certifi>=2017.4.17 in c:\\users\\user\\anaconda3\\lib\\site-packages (from requests) (2025.1.31)\n"
     ]
    }
   ],
   "source": [
    "!pip install requests "
   ]
  },
  {
   "cell_type": "code",
   "execution_count": 21,
   "id": "2f2ecf5b-b872-4c5f-ac44-30c1c93128b6",
   "metadata": {
    "collapsed": true,
    "jupyter": {
     "outputs_hidden": true
    }
   },
   "outputs": [
    {
     "name": "stdout",
     "output_type": "stream",
     "text": [
      "Package                           Version\n",
      "--------------------------------- ------------------\n",
      "aext-assistant                    4.1.0\n",
      "aext-assistant-server             4.1.0\n",
      "aext-core                         4.1.0\n",
      "aext-core-server                  4.1.0\n",
      "aext-panels                       4.1.0\n",
      "aext-panels-server                4.1.0\n",
      "aext-project-filebrowser-server   4.1.0\n",
      "aext-share-notebook               4.1.0\n",
      "aext-share-notebook-server        4.1.0\n",
      "aext-shared                       4.1.0\n",
      "aext-toolbox                      4.1.0\n",
      "aiobotocore                       2.12.3\n",
      "aiohappyeyeballs                  2.4.0\n",
      "aiohttp                           3.10.5\n",
      "aioitertools                      0.7.1\n",
      "aiosignal                         1.2.0\n",
      "alabaster                         0.7.16\n",
      "alembic                           1.13.3\n",
      "altair                            5.0.1\n",
      "anaconda-anon-usage               0.4.4\n",
      "anaconda-catalogs                 0.2.0\n",
      "anaconda-cli-base                 0.4.1\n",
      "anaconda-client                   1.13.0\n",
      "anaconda-cloud-auth               0.7.2\n",
      "anaconda-navigator                2.6.4\n",
      "anaconda-project                  0.11.1\n",
      "annotated-types                   0.6.0\n",
      "anyio                             4.2.0\n",
      "appdirs                           1.4.4\n",
      "archspec                          0.2.3\n",
      "argon2-cffi                       21.3.0\n",
      "argon2-cffi-bindings              21.2.0\n",
      "arrow                             1.2.3\n",
      "astroid                           2.14.2\n",
      "astropy                           6.1.3\n",
      "astropy-iers-data                 0.2024.9.2.0.33.23\n",
      "asttokens                         2.0.5\n",
      "async-lru                         2.0.4\n",
      "atomicwrites                      1.4.0\n",
      "attrs                             23.1.0\n",
      "Automat                           20.2.0\n",
      "autopep8                          2.0.4\n",
      "Babel                             2.11.0\n",
      "bcrypt                            3.2.0\n",
      "beautifulsoup4                    4.12.3\n",
      "binaryornot                       0.4.4\n",
      "black                             24.8.0\n",
      "bleach                            4.1.0\n",
      "blinker                           1.6.2\n",
      "bokeh                             3.6.0\n",
      "boltons                           23.0.0\n",
      "botocore                          1.34.69\n",
      "Bottleneck                        1.3.7\n",
      "Brotli                            1.0.9\n",
      "cachetools                        5.3.3\n",
      "certifi                           2025.1.31\n",
      "cffi                              1.17.1\n",
      "chardet                           4.0.0\n",
      "charset-normalizer                3.3.2\n",
      "click                             8.1.7\n",
      "cloudpickle                       3.0.0\n",
      "colorama                          0.4.6\n",
      "colorcet                          3.1.0\n",
      "comm                              0.2.1\n",
      "conda                             24.11.3\n",
      "conda-build                       24.9.0\n",
      "conda-content-trust               0.2.0\n",
      "conda_index                       0.5.0\n",
      "conda-libmamba-solver             24.9.0\n",
      "conda-pack                        0.7.1\n",
      "conda-package-handling            2.3.0\n",
      "conda_package_streaming           0.10.0\n",
      "conda-repo-cli                    1.0.114\n",
      "conda-token                       0.5.0+1.g2209e04\n",
      "constantly                        23.10.4\n",
      "contourpy                         1.2.0\n",
      "cookiecutter                      2.6.0\n",
      "cryptography                      43.0.0\n",
      "cssselect                         1.2.0\n",
      "cycler                            0.11.0\n",
      "cytoolz                           0.12.2\n",
      "dask                              2024.8.2\n",
      "dask-expr                         1.1.13\n",
      "datashader                        0.16.3\n",
      "debugpy                           1.6.7\n",
      "decorator                         5.1.1\n",
      "defusedxml                        0.7.1\n",
      "diff-match-patch                  20200713\n",
      "dill                              0.3.8\n",
      "distributed                       2024.8.2\n",
      "distro                            1.9.0\n",
      "docstring-to-markdown             0.11\n",
      "docutils                          0.18.1\n",
      "et-xmlfile                        1.1.0\n",
      "executing                         0.8.3\n",
      "fastjsonschema                    2.16.2\n",
      "filelock                          3.13.1\n",
      "flake8                            7.0.0\n",
      "Flask                             3.0.3\n",
      "fonttools                         4.51.0\n",
      "frozendict                        2.4.2\n",
      "frozenlist                        1.4.0\n",
      "fsspec                            2024.6.1\n",
      "gensim                            4.3.3\n",
      "gitdb                             4.0.7\n",
      "GitPython                         3.1.43\n",
      "greenlet                          3.0.1\n",
      "h11                               0.14.0\n",
      "h5py                              3.11.0\n",
      "HeapDict                          1.0.1\n",
      "holoviews                         1.19.1\n",
      "httpcore                          1.0.2\n",
      "httpx                             0.27.0\n",
      "hvplot                            0.11.0\n",
      "hyperlink                         21.0.0\n",
      "idna                              3.7\n",
      "imagecodecs                       2023.1.23\n",
      "imageio                           2.33.1\n",
      "imagesize                         1.4.1\n",
      "imbalanced-learn                  0.12.3\n",
      "importlib-metadata                7.0.1\n",
      "incremental                       22.10.0\n",
      "inflection                        0.5.1\n",
      "iniconfig                         1.1.1\n",
      "intake                            2.0.7\n",
      "intervaltree                      3.1.0\n",
      "ipykernel                         6.28.0\n",
      "ipython                           8.27.0\n",
      "ipython-genutils                  0.2.0\n",
      "ipywidgets                        7.8.1\n",
      "isort                             5.13.2\n",
      "itemadapter                       0.3.0\n",
      "itemloaders                       1.1.0\n",
      "itsdangerous                      2.2.0\n",
      "jaraco.classes                    3.2.1\n",
      "jedi                              0.19.1\n",
      "jellyfish                         1.0.1\n",
      "Jinja2                            3.1.4\n",
      "jmespath                          1.0.1\n",
      "joblib                            1.4.2\n",
      "json5                             0.9.6\n",
      "jsonpatch                         1.33\n",
      "jsonpointer                       2.1\n",
      "jsonschema                        4.23.0\n",
      "jsonschema-specifications         2023.7.1\n",
      "jupyter                           1.0.0\n",
      "jupyter_client                    8.6.0\n",
      "jupyter-console                   6.6.3\n",
      "jupyter_core                      5.7.2\n",
      "jupyter-events                    0.10.0\n",
      "jupyter-lsp                       2.2.0\n",
      "jupyter_server                    2.14.1\n",
      "jupyter_server_terminals          0.4.4\n",
      "jupyterlab                        4.2.5\n",
      "jupyterlab-pygments               0.1.2\n",
      "jupyterlab_server                 2.27.3\n",
      "jupyterlab-widgets                1.0.0\n",
      "keyring                           24.3.1\n",
      "kiwisolver                        1.4.4\n",
      "lazy_loader                       0.4\n",
      "lazy-object-proxy                 1.10.0\n",
      "lckr_jupyterlab_variableinspector 3.1.0\n",
      "libarchive-c                      5.1\n",
      "libmambapy                        1.5.8\n",
      "linkify-it-py                     2.0.0\n",
      "llvmlite                          0.43.0\n",
      "lmdb                              1.4.1\n",
      "locket                            1.0.0\n",
      "lxml                              5.2.1\n",
      "lz4                               4.3.2\n",
      "Mako                              1.2.3\n",
      "Markdown                          3.4.1\n",
      "markdown-it-py                    2.2.0\n",
      "MarkupSafe                        2.1.3\n",
      "matplotlib                        3.9.2\n",
      "matplotlib-inline                 0.1.6\n",
      "mccabe                            0.7.0\n",
      "mdit-py-plugins                   0.3.0\n",
      "mdurl                             0.1.0\n",
      "menuinst                          2.1.2\n",
      "mistune                           2.0.4\n",
      "mkl_fft                           1.3.10\n",
      "mkl_random                        1.2.7\n",
      "mkl-service                       2.4.0\n",
      "more-itertools                    10.3.0\n",
      "mpmath                            1.3.0\n",
      "msgpack                           1.0.3\n",
      "multidict                         6.0.4\n",
      "multipledispatch                  0.6.0\n",
      "mypy                              1.11.2\n",
      "mypy-extensions                   1.0.0\n",
      "navigator-updater                 0.5.1\n",
      "nb_conda_kernels                  2.5.2\n",
      "nbclient                          0.8.0\n",
      "nbconvert                         7.16.4\n",
      "nbformat                          5.10.4\n",
      "nest-asyncio                      1.6.0\n",
      "networkx                          3.3\n",
      "nltk                              3.9.1\n",
      "notebook                          7.2.2\n",
      "notebook_shim                     0.2.3\n",
      "numba                             0.60.0\n",
      "numexpr                           2.8.7\n",
      "numpy                             1.26.4\n",
      "numpydoc                          1.7.0\n",
      "openpyxl                          3.1.5\n",
      "overrides                         7.4.0\n",
      "packaging                         24.1\n",
      "pandas                            2.2.2\n",
      "pandocfilters                     1.5.0\n",
      "panel                             1.5.2\n",
      "param                             2.1.1\n",
      "paramiko                          2.8.1\n",
      "parsel                            1.8.1\n",
      "parso                             0.8.3\n",
      "partd                             1.4.1\n",
      "pathspec                          0.10.3\n",
      "patsy                             0.5.6\n",
      "pexpect                           4.8.0\n",
      "pickleshare                       0.7.5\n",
      "pillow                            10.4.0\n",
      "pip                               24.2\n",
      "pkce                              1.0.3\n",
      "pkginfo                           1.10.0\n",
      "platformdirs                      3.10.0\n",
      "plotly                            5.24.1\n",
      "pluggy                            1.0.0\n",
      "ply                               3.11\n",
      "prometheus-client                 0.14.1\n",
      "prompt-toolkit                    3.0.43\n",
      "Protego                           0.1.16\n",
      "protobuf                          4.25.3\n",
      "psutil                            5.9.0\n",
      "ptyprocess                        0.7.0\n",
      "pure-eval                         0.2.2\n",
      "py-cpuinfo                        9.0.0\n",
      "pyarrow                           16.1.0\n",
      "pyasn1                            0.4.8\n",
      "pyasn1-modules                    0.2.8\n",
      "pycodestyle                       2.11.1\n",
      "pycosat                           0.6.6\n",
      "pycparser                         2.21\n",
      "pyct                              0.5.0\n",
      "pycurl                            7.45.3\n",
      "pydantic                          2.8.2\n",
      "pydantic_core                     2.20.1\n",
      "pydantic-settings                 2.6.1\n",
      "pydeck                            0.8.0\n",
      "PyDispatcher                      2.0.5\n",
      "pydocstyle                        6.3.0\n",
      "pyerfa                            2.0.1.4\n",
      "pyflakes                          3.2.0\n",
      "Pygments                          2.15.1\n",
      "PyJWT                             2.8.0\n",
      "pylint                            2.16.2\n",
      "pylint-venv                       3.0.3\n",
      "pyls-spyder                       0.4.0\n",
      "PyNaCl                            1.5.0\n",
      "pyodbc                            5.1.0\n",
      "pyOpenSSL                         24.2.1\n",
      "pyparsing                         3.1.2\n",
      "PyQt5                             5.15.10\n",
      "PyQt5-sip                         12.13.0\n",
      "PyQtWebEngine                     5.15.6\n",
      "PySocks                           1.7.1\n",
      "pytest                            7.4.4\n",
      "python-dateutil                   2.9.0.post0\n",
      "python-dotenv                     0.21.0\n",
      "python-json-logger                2.0.7\n",
      "python-lsp-black                  2.0.0\n",
      "python-lsp-jsonrpc                1.1.2\n",
      "python-lsp-server                 1.10.0\n",
      "python-slugify                    5.0.2\n",
      "pytoolconfig                      1.2.6\n",
      "pytz                              2024.1\n",
      "pyviz_comms                       3.0.2\n",
      "PyWavelets                        1.7.0\n",
      "pywin32                           305.1\n",
      "pywin32-ctypes                    0.2.2\n",
      "pywinpty                          2.0.10\n",
      "PyYAML                            6.0.1\n",
      "pyzmq                             25.1.2\n",
      "QDarkStyle                        3.2.3\n",
      "qstylizer                         0.2.2\n",
      "QtAwesome                         1.3.1\n",
      "qtconsole                         5.5.1\n",
      "QtPy                              2.4.1\n",
      "queuelib                          1.6.2\n",
      "readchar                          4.0.5\n",
      "referencing                       0.30.2\n",
      "regex                             2024.9.11\n",
      "requests                          2.32.3\n",
      "requests-file                     1.5.1\n",
      "requests-toolbelt                 1.0.0\n",
      "rfc3339-validator                 0.1.4\n",
      "rfc3986-validator                 0.1.1\n",
      "rich                              13.7.1\n",
      "rope                              1.12.0\n",
      "rpds-py                           0.10.6\n",
      "Rtree                             1.0.1\n",
      "ruamel.yaml                       0.18.6\n",
      "ruamel.yaml.clib                  0.2.8\n",
      "ruamel-yaml-conda                 0.17.21\n",
      "s3fs                              2024.6.1\n",
      "scikit-image                      0.24.0\n",
      "scikit-learn                      1.5.1\n",
      "scipy                             1.13.1\n",
      "Scrapy                            2.11.1\n",
      "seaborn                           0.13.2\n",
      "semver                            3.0.2\n",
      "Send2Trash                        1.8.2\n",
      "sentry-sdk                        2.18.0\n",
      "service-identity                  18.1.0\n",
      "setuptools                        75.1.0\n",
      "shellingham                       1.5.0\n",
      "sip                               6.7.12\n",
      "six                               1.16.0\n",
      "smart-open                        5.2.1\n",
      "smmap                             4.0.0\n",
      "sniffio                           1.3.0\n",
      "snowballstemmer                   2.2.0\n",
      "sortedcontainers                  2.4.0\n",
      "soupsieve                         2.5\n",
      "Sphinx                            7.3.7\n",
      "sphinxcontrib-applehelp           1.0.2\n",
      "sphinxcontrib-devhelp             1.0.2\n",
      "sphinxcontrib-htmlhelp            2.0.0\n",
      "sphinxcontrib-jsmath              1.0.1\n",
      "sphinxcontrib-qthelp              1.0.3\n",
      "sphinxcontrib-serializinghtml     1.1.10\n",
      "spyder                            5.5.1\n",
      "spyder-kernels                    2.5.0\n",
      "SQLAlchemy                        2.0.34\n",
      "stack-data                        0.2.0\n",
      "statsmodels                       0.14.2\n",
      "streamlit                         1.37.1\n",
      "sympy                             1.13.2\n",
      "tables                            3.10.1\n",
      "tabulate                          0.9.0\n",
      "tblib                             1.7.0\n",
      "tenacity                          8.2.3\n",
      "terminado                         0.17.1\n",
      "text-unidecode                    1.3\n",
      "textdistance                      4.2.1\n",
      "threadpoolctl                     3.5.0\n",
      "three-merge                       0.1.1\n",
      "tifffile                          2023.4.12\n",
      "tinycss2                          1.2.1\n",
      "tldextract                        5.1.2\n",
      "toml                              0.10.2\n",
      "tomli                             2.0.1\n",
      "tomlkit                           0.11.1\n",
      "toolz                             0.12.0\n",
      "tornado                           6.4.1\n",
      "tqdm                              4.66.5\n",
      "traitlets                         5.14.3\n",
      "truststore                        0.8.0\n",
      "Twisted                           23.10.0\n",
      "twisted-iocpsupport               1.0.2\n",
      "typer                             0.9.0\n",
      "typing_extensions                 4.11.0\n",
      "tzdata                            2023.3\n",
      "uc-micro-py                       1.0.1\n",
      "ujson                             5.10.0\n",
      "unicodedata2                      15.1.0\n",
      "Unidecode                         1.3.8\n",
      "urllib3                           2.2.3\n",
      "w3lib                             2.1.2\n",
      "watchdog                          4.0.1\n",
      "wcwidth                           0.2.5\n",
      "webencodings                      0.5.1\n",
      "websocket-client                  1.8.0\n",
      "Werkzeug                          3.0.3\n",
      "whatthepatch                      1.0.2\n",
      "wheel                             0.44.0\n",
      "widgetsnbextension                3.6.6\n",
      "win-inet-pton                     1.1.0\n",
      "wrapt                             1.14.1\n",
      "xarray                            2023.6.0\n",
      "xlwings                           0.32.1\n",
      "xyzservices                       2022.9.0\n",
      "yapf                              0.40.2\n",
      "yarl                              1.11.0\n",
      "zict                              3.0.0\n",
      "zipp                              3.17.0\n",
      "zope.interface                    5.4.0\n",
      "zstandard                         0.23.0\n"
     ]
    }
   ],
   "source": [
    "# list all packeges currently installed \n",
    "!pip list"
   ]
  },
  {
   "cell_type": "code",
   "execution_count": 25,
   "id": "c20ea4f2-4cce-4faa-83bb-e287ea1943bf",
   "metadata": {},
   "outputs": [],
   "source": [
    "import requests"
   ]
  },
  {
   "cell_type": "code",
   "execution_count": 29,
   "id": "04a10731-e0f5-4e2e-8a70-5499c3f4117d",
   "metadata": {},
   "outputs": [
    {
     "data": {
      "text/plain": [
       "\u001b[1;31mSignature:\u001b[0m \u001b[0mrequests\u001b[0m\u001b[1;33m.\u001b[0m\u001b[0mget\u001b[0m\u001b[1;33m(\u001b[0m\u001b[0murl\u001b[0m\u001b[1;33m,\u001b[0m \u001b[0mparams\u001b[0m\u001b[1;33m=\u001b[0m\u001b[1;32mNone\u001b[0m\u001b[1;33m,\u001b[0m \u001b[1;33m**\u001b[0m\u001b[0mkwargs\u001b[0m\u001b[1;33m)\u001b[0m\u001b[1;33m\u001b[0m\u001b[1;33m\u001b[0m\u001b[0m\n",
       "\u001b[1;31mSource:\u001b[0m   \n",
       "\u001b[1;32mdef\u001b[0m \u001b[0mget\u001b[0m\u001b[1;33m(\u001b[0m\u001b[0murl\u001b[0m\u001b[1;33m,\u001b[0m \u001b[0mparams\u001b[0m\u001b[1;33m=\u001b[0m\u001b[1;32mNone\u001b[0m\u001b[1;33m,\u001b[0m \u001b[1;33m**\u001b[0m\u001b[0mkwargs\u001b[0m\u001b[1;33m)\u001b[0m\u001b[1;33m:\u001b[0m\u001b[1;33m\n",
       "\u001b[0m    \u001b[1;34mr\"\"\"Sends a GET request.\n",
       "\n",
       "    :param url: URL for the new :class:`Request` object.\n",
       "    :param params: (optional) Dictionary, list of tuples or bytes to send\n",
       "        in the query string for the :class:`Request`.\n",
       "    :param \\*\\*kwargs: Optional arguments that ``request`` takes.\n",
       "    :return: :class:`Response <Response>` object\n",
       "    :rtype: requests.Response\n",
       "    \"\"\"\u001b[0m\u001b[1;33m\n",
       "\u001b[0m\u001b[1;33m\n",
       "\u001b[0m    \u001b[1;32mreturn\u001b[0m \u001b[0mrequest\u001b[0m\u001b[1;33m(\u001b[0m\u001b[1;34m\"get\"\u001b[0m\u001b[1;33m,\u001b[0m \u001b[0murl\u001b[0m\u001b[1;33m,\u001b[0m \u001b[0mparams\u001b[0m\u001b[1;33m=\u001b[0m\u001b[0mparams\u001b[0m\u001b[1;33m,\u001b[0m \u001b[1;33m**\u001b[0m\u001b[0mkwargs\u001b[0m\u001b[1;33m)\u001b[0m\u001b[1;33m\u001b[0m\u001b[1;33m\u001b[0m\u001b[0m\n",
       "\u001b[1;31mFile:\u001b[0m      c:\\users\\user\\anaconda3\\lib\\site-packages\\requests\\api.py\n",
       "\u001b[1;31mType:\u001b[0m      function"
      ]
     },
     "metadata": {},
     "output_type": "display_data"
    }
   ],
   "source": [
    "requests.get??\n",
    "# returns a summary of the requests package"
   ]
  },
  {
   "cell_type": "code",
   "execution_count": 31,
   "id": "f32489f0-46da-4f47-8b82-fb25cca069df",
   "metadata": {},
   "outputs": [],
   "source": [
    "# i can haz dad joke api endpoint \n",
    "joke_url = 'https://icanhazdadjoke.com'\n",
    "#ISS API Endpoint \n",
    "iss_url = 'https://api.wheretheiss.at/v1/satellites/25544'"
   ]
  },
  {
   "cell_type": "code",
   "execution_count": 33,
   "id": "d8e72bbe-e4d6-4505-be21-726f74b261b0",
   "metadata": {},
   "outputs": [],
   "source": [
    "#this is setting up a header - metadata for your api request\n",
    "my_header = {'Accept':'application/json'}\n",
    "\n",
    "# API Call\n",
    "results = requests.get(joke_url, headers=my_header)"
   ]
  },
  {
   "cell_type": "code",
   "execution_count": 35,
   "id": "2fc80c95-f763-41e2-9aa0-1f5461bf3f4f",
   "metadata": {},
   "outputs": [
    {
     "data": {
      "text/plain": [
       "<Response [200]>"
      ]
     },
     "execution_count": 35,
     "metadata": {},
     "output_type": "execute_result"
    }
   ],
   "source": [
    "results"
   ]
  },
  {
   "cell_type": "code",
   "execution_count": 49,
   "id": "c9204469-a260-4b8c-879b-eb1dc49aea84",
   "metadata": {},
   "outputs": [],
   "source": [
    "joke_results = results.json()"
   ]
  },
  {
   "cell_type": "code",
   "execution_count": 51,
   "id": "dfa15a99-ce3d-4337-aae0-f464513d8eb0",
   "metadata": {},
   "outputs": [
    {
     "data": {
      "text/plain": [
       "'I cut my finger cutting cheese. I know it may be a cheesy story but I feel grate now.'"
      ]
     },
     "execution_count": 51,
     "metadata": {},
     "output_type": "execute_result"
    }
   ],
   "source": [
    "# to extract the joke \n",
    "joke_results['joke']"
   ]
  },
  {
   "cell_type": "code",
   "execution_count": 61,
   "id": "9f184644-cd15-4909-bf92-fd482a8753b8",
   "metadata": {},
   "outputs": [],
   "source": [
    "#API calls with ISS \n",
    "issres=requests.get(iss_url, headers=my_header)"
   ]
  },
  {
   "cell_type": "code",
   "execution_count": 57,
   "id": "f9c73bbe-08b4-49f2-bc9f-15e1c4f8b8c7",
   "metadata": {},
   "outputs": [],
   "source": [
    "iss_results = issres.json()"
   ]
  },
  {
   "cell_type": "code",
   "execution_count": 59,
   "id": "9a4e04c3-0e38-45cb-be49-ba1198382751",
   "metadata": {},
   "outputs": [
    {
     "data": {
      "text/plain": [
       "{'name': 'iss',\n",
       " 'id': 25544,\n",
       " 'latitude': -50.659073739136,\n",
       " 'longitude': 86.263638135576,\n",
       " 'altitude': 431.60231094121,\n",
       " 'velocity': 27551.838894436,\n",
       " 'visibility': 'daylight',\n",
       " 'footprint': 4566.0259807357,\n",
       " 'timestamp': 1740060876,\n",
       " 'daynum': 2460727.0934722,\n",
       " 'solar_lat': -10.692542259089,\n",
       " 'solar_lon': 329.76434282517,\n",
       " 'units': 'kilometers'}"
      ]
     },
     "execution_count": 59,
     "metadata": {},
     "output_type": "execute_result"
    }
   ],
   "source": [
    "iss_results"
   ]
  },
  {
   "cell_type": "markdown",
   "id": "d98edefd-9837-42e5-b45b-1a0a824eebc8",
   "metadata": {},
   "source": [
    "# 9. Working with Files and Error Hnadling "
   ]
  },
  {
   "cell_type": "code",
   "execution_count": 70,
   "id": "8be8157c-d9f7-4d9c-9378-90b72bb72f32",
   "metadata": {},
   "outputs": [],
   "source": [
    "# write out our mission journal\n",
    "with open('mission_journal.txt', 'w') as f:\n",
    "    f.write(\"It's my first day on the space mission, i like it here \")"
   ]
  },
  {
   "cell_type": "code",
   "execution_count": 72,
   "id": "9078ba11-b33d-4eb0-b8c8-683dd6bf664c",
   "metadata": {},
   "outputs": [],
   "source": [
    "#read from journal \n",
    "with open('mission_journal.txt', 'r') as f:\n",
    "    file = f.read()"
   ]
  },
  {
   "cell_type": "code",
   "execution_count": 74,
   "id": "013877ee-35da-4861-859d-2221b949d01d",
   "metadata": {},
   "outputs": [
    {
     "data": {
      "text/plain": [
       "\"It's my first day on the space mission, i like it here \""
      ]
     },
     "execution_count": 74,
     "metadata": {},
     "output_type": "execute_result"
    }
   ],
   "source": [
    "file"
   ]
  },
  {
   "cell_type": "code",
   "execution_count": null,
   "id": "e1eab1ee-7437-44aa-a544-29565bf1d4eb",
   "metadata": {},
   "outputs": [],
   "source": []
  },
  {
   "cell_type": "code",
   "execution_count": null,
   "id": "afa9d37b-aa80-4562-881b-c0d2e8856e0d",
   "metadata": {},
   "outputs": [],
   "source": []
  },
  {
   "cell_type": "code",
   "execution_count": null,
   "id": "9ee5c13e-5509-4bfb-8008-02ebc511fa97",
   "metadata": {},
   "outputs": [],
   "source": []
  },
  {
   "cell_type": "code",
   "execution_count": null,
   "id": "658c7e6a-e857-40c5-af58-c3f19a7416f0",
   "metadata": {},
   "outputs": [],
   "source": []
  }
 ],
 "metadata": {
  "kernelspec": {
   "display_name": "Python [conda env:base] *",
   "language": "python",
   "name": "conda-base-py"
  },
  "language_info": {
   "codemirror_mode": {
    "name": "ipython",
    "version": 3
   },
   "file_extension": ".py",
   "mimetype": "text/x-python",
   "name": "python",
   "nbconvert_exporter": "python",
   "pygments_lexer": "ipython3",
   "version": "3.12.7"
  }
 },
 "nbformat": 4,
 "nbformat_minor": 5
}
